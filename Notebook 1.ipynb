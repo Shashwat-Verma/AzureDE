{
 "cells": [
  {
   "cell_type": "code",
   "execution_count": 1,
   "metadata": {},
   "outputs": [
    {
     "data": {
      "application/vnd.livy.statement-meta+json": {
       "execution_finish_time": "2022-05-01T18:13:40.4090946Z",
       "execution_start_time": "2022-05-01T18:13:40.2359001Z",
       "livy_statement_state": "available",
       "queued_time": "2022-05-01T18:11:11.4632428Z",
       "session_id": 0,
       "session_start_time": null,
       "spark_pool": "mysparkpool",
       "state": "finished",
       "statement_id": 2
      },
      "text/plain": [
       "StatementMeta(mysparkpool, 0, 2, Finished, Available)"
      ]
     },
     "metadata": {},
     "output_type": "display_data"
    },
    {
     "data": {
      "text/html": [
       "\n",
       "            <div>\n",
       "                <p><b>SparkSession - hive</b></p>\n",
       "                \n",
       "        <div>\n",
       "            <p><b>SparkContext</b></p>\n",
       "\n",
       "            <p><a href=\"http://vm-d4f55825:38411\">Spark UI</a></p>\n",
       "\n",
       "            <dl>\n",
       "              <dt>Version</dt>\n",
       "                <dd><code>v2.4.8.2.6.99.201-58153078</code></dd>\n",
       "              <dt>Master</dt>\n",
       "                <dd><code>yarn</code></dd>\n",
       "              <dt>AppName</dt>\n",
       "                <dd><code>Notebook 1_mysparkpool_1651428670</code></dd>\n",
       "            </dl>\n",
       "        </div>\n",
       "        \n",
       "            </div>\n",
       "        "
      ],
      "text/plain": [
       "<pyspark.sql.session.SparkSession at 0x7f23f8e3ae10>"
      ]
     },
     "metadata": {},
     "output_type": "display_data"
    }
   ],
   "source": [
    "spark"
   ]
  },
  {
   "cell_type": "code",
   "execution_count": 2,
   "metadata": {
    "jupyter": {
     "outputs_hidden": false,
     "source_hidden": false
    },
    "nteract": {
     "transient": {
      "deleting": false
     }
    }
   },
   "outputs": [
    {
     "data": {
      "application/vnd.livy.statement-meta+json": {
       "execution_finish_time": "2022-05-01T18:29:44.489578Z",
       "execution_start_time": "2022-05-01T18:29:31.266008Z",
       "livy_statement_state": "available",
       "queued_time": "2022-05-01T18:29:31.1017504Z",
       "session_id": 0,
       "session_start_time": null,
       "spark_pool": "mysparkpool",
       "state": "finished",
       "statement_id": 3
      },
      "text/plain": [
       "StatementMeta(mysparkpool, 0, 3, Finished, Available)"
      ]
     },
     "metadata": {},
     "output_type": "display_data"
    },
    {
     "name": "stdout",
     "output_type": "stream",
     "text": [
      "+---+--------------------+-------------------+---------+--------------+-------------+-------------------+--------------------+--------------------+--------------------+--------------------+\n",
      "| Id|       Correlationid|      Operationname|   Status| Eventcategory|        Level|               Time|        Subscription|    Eventinitiatedby|        Resourcetype|       Resourcegroup|\n",
      "+---+--------------------+-------------------+---------+--------------+-------------+-------------------+--------------------+--------------------+--------------------+--------------------+\n",
      "|  1|66641e13-d19f-4ce...|Delete SQL database|Succeeded|Administrative|Informational|2021-06-15 04:44:38|20c6eec9-2d80-470...|Microsoft Azure S...|Microsoft.Sql/ser...|synapseworkspace-...|\n",
      "|  2|66641e13-d19f-4ce...|Delete SQL database|  Started|Administrative|Informational|2021-06-15 04:44:21|20c6eec9-2d80-470...|Microsoft Azure S...|Microsoft.Sql/ser...|synapseworkspace-...|\n",
      "|  3|66641e13-d19f-4ce...|Delete SQL database| Accepted|Administrative|Informational|2021-06-15 04:44:21|20c6eec9-2d80-470...|Microsoft Azure S...|Microsoft.Sql/ser...|synapseworkspace-...|\n",
      "|  4|e2958162-93d9-464...|    Delete SqlPools|Succeeded|Administrative|Informational|2021-06-15 04:44:31|20c6eec9-2d80-470...|techsup1000@gmail...|Microsoft.Synapse...|             new-grp|\n",
      "|  5|e2958162-93d9-464...|    Delete SqlPools|  Started|Administrative|Informational|2021-06-15 04:44:12|20c6eec9-2d80-470...|techsup1000@gmail...|Microsoft.Synapse...|             new-grp|\n",
      "+---+--------------------+-------------------+---------+--------------+-------------+-------------------+--------------------+--------------------+--------------------+--------------------+\n",
      "only showing top 5 rows"
     ]
    }
   ],
   "source": [
    "#Use Access Key\n",
    "spark.conf.set(\"fs.azure.account.auth.type.adlsdemo97.dfs.core.windows.net\",\"SharedKey\")\n",
    "spark.conf.set(\"fs.azure.account.key.adlsdemo97.dfs.core.windows.net\",\"IgWwisxE9bIfEgv5v521p5nE9gb2dX8rl9ZsFDiJAXRv4Y2n+IXderAkHeMJHYLbc1hOFiRPcwZT+AStzQuYeA==\")\n",
    "df1 = spark.read.option(\"header\",True).option(\"delimeter\",',').csv('abfss://datasets@adlsdemo97.dfs.core.windows.net/logdata/Log.csv')\n",
    "df1.show(5)"
   ]
  },
  {
   "cell_type": "code",
   "execution_count": 8,
   "metadata": {
    "jupyter": {
     "outputs_hidden": false,
     "source_hidden": false
    },
    "nteract": {
     "transient": {
      "deleting": false
     }
    }
   },
   "outputs": [
    {
     "data": {
      "application/vnd.livy.statement-meta+json": {
       "execution_finish_time": "2022-05-01T18:44:32.2934069Z",
       "execution_start_time": "2022-05-01T18:44:28.2221148Z",
       "livy_statement_state": "available",
       "queued_time": "2022-05-01T18:44:28.0999052Z",
       "session_id": 0,
       "session_start_time": null,
       "spark_pool": "mysparkpool",
       "state": "finished",
       "statement_id": 9
      },
      "text/plain": [
       "StatementMeta(mysparkpool, 0, 9, Finished, Available)"
      ]
     },
     "metadata": {},
     "output_type": "display_data"
    }
   ],
   "source": [
    "df1.filter('status = \"Succeeded\"').repartition(1).write.parquet(\"abfss://datasets@adlsdemo97.dfs.core.windows.net/outputParquet1\")\n"
   ]
  },
  {
   "cell_type": "code",
   "execution_count": 11,
   "metadata": {
    "jupyter": {
     "outputs_hidden": false,
     "source_hidden": false
    },
    "nteract": {
     "transient": {
      "deleting": false
     }
    }
   },
   "outputs": [
    {
     "data": {
      "application/vnd.livy.statement-meta+json": {
       "execution_finish_time": "2022-05-01T18:49:26.4522839Z",
       "execution_start_time": "2022-05-01T18:49:24.6522589Z",
       "livy_statement_state": "available",
       "queued_time": "2022-05-01T18:49:24.5342009Z",
       "session_id": 0,
       "session_start_time": null,
       "spark_pool": "mysparkpool",
       "state": "finished",
       "statement_id": 12
      },
      "text/plain": [
       "StatementMeta(mysparkpool, 0, 12, Finished, Available)"
      ]
     },
     "metadata": {},
     "output_type": "display_data"
    }
   ],
   "source": [
    "#SQL on Spark\n",
    "\n",
    "df1.registerTempTable('logdata')\n",
    "\n",
    "spark.sql('select * from logdata where Status=\"Succeeded\"').repartition(1).write.parquet(\"abfss://datasets@adlsdemo97.dfs.core.windows.net/outputParquet2\")"
   ]
  }
 ],
 "metadata": {
  "kernel_info": {
   "name": "synapse_pyspark"
  },
  "kernelspec": {
   "display_name": "Python 3 (ipykernel)",
   "language": "python",
   "name": "python3"
  },
  "language_info": {
   "codemirror_mode": {
    "name": "ipython",
    "version": 3
   },
   "file_extension": ".py",
   "mimetype": "text/x-python",
   "name": "python",
   "nbconvert_exporter": "python",
   "pygments_lexer": "ipython3",
   "version": "3.9.7"
  },
  "save_output": true,
  "synapse_widget": {
   "state": {},
   "version": "0.1"
  }
 },
 "nbformat": 4,
 "nbformat_minor": 2
}
