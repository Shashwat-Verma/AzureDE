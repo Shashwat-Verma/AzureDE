{
  "cells": [
    {
      "cell_type": "code",
      "source": [
        "spark"
      ],
      "outputs": [
        {
          "output_type": "display_data",
          "data": {
            "application/vnd.livy.statement-meta+json": {
              "spark_pool": "mysparkpool",
              "session_id": 4,
              "statement_id": 2,
              "state": "finished",
              "livy_statement_state": "available",
              "queued_time": "2022-05-05T15:11:28.5821381Z",
              "session_start_time": null,
              "execution_start_time": "2022-05-05T15:13:40.9929311Z",
              "execution_finish_time": "2022-05-05T15:13:41.1491829Z"
            },
            "text/plain": "StatementMeta(mysparkpool, 4, 2, Finished, Available)"
          },
          "metadata": {}
        },
        {
          "output_type": "display_data",
          "data": {
            "text/plain": "<pyspark.sql.session.SparkSession at 0x7f8ac5edb5c0>",
            "text/html": "\n            <div>\n                <p><b>SparkSession - hive</b></p>\n                \n        <div>\n            <p><b>SparkContext</b></p>\n\n            <p><a href=\"http://vm-4c477952:39259\">Spark UI</a></p>\n\n            <dl>\n              <dt>Version</dt>\n                <dd><code>v2.4.8.2.6.99.201-58153078</code></dd>\n              <dt>Master</dt>\n                <dd><code>yarn</code></dd>\n              <dt>AppName</dt>\n                <dd><code>Concept_Assignment1_mysparkpool_1651763472</code></dd>\n            </dl>\n        </div>\n        \n            </div>\n        "
          },
          "metadata": {}
        }
      ],
      "execution_count": 1,
      "metadata": {}
    },
    {
      "cell_type": "code",
      "source": [
        "#Using Access Key for adls storage\r\n",
        "spark.conf.set(\"fs.azure.account.auth.type.adlsdemo97.dfs.core.windows.net\",\"SharedKey\")\r\n",
        "spark.conf.set(\"fs.azure.account.key.adlsdemo97.dfs.core.windows.net\",\"IgWwisxE9bIfEgv5v521p5nE9gb2dX8rl9ZsFDiJAXRv4Y2n+IXderAkHeMJHYLbc1hOFiRPcwZT+AStzQuYeA==\")"
      ],
      "outputs": [
        {
          "output_type": "display_data",
          "data": {
            "application/vnd.livy.statement-meta+json": {
              "spark_pool": "mysparkpool",
              "session_id": 4,
              "statement_id": 3,
              "state": "finished",
              "livy_statement_state": "available",
              "queued_time": "2022-05-05T15:14:16.3995837Z",
              "session_start_time": null,
              "execution_start_time": "2022-05-05T15:14:16.5564963Z",
              "execution_finish_time": "2022-05-05T15:14:16.707757Z"
            },
            "text/plain": "StatementMeta(mysparkpool, 4, 3, Finished, Available)"
          },
          "metadata": {}
        }
      ],
      "execution_count": 2,
      "metadata": {
        "jupyter": {
          "source_hidden": false,
          "outputs_hidden": false
        },
        "nteract": {
          "transient": {
            "deleting": false
          }
        }
      }
    },
    {
      "cell_type": "code",
      "source": [
        "# Create a Schema Programatically and Assign the same during DataFrame Creation\r\n",
        "from pyspark.sql.types import StructType,StructField\r\n",
        "from pyspark.sql.types import IntegerType,StringType,DoubleType,LongType,DateType\r\n",
        "\r\n",
        "schemaFortxnsData = StructType([\r\n",
        "    StructField(\"txnid\", IntegerType(),True),\r\n",
        "    StructField(\"txndate\", StringType(),True),\r\n",
        "    StructField(\"custid\", LongType(),True),\r\n",
        "    StructField(\"amount\", DoubleType(),True),\r\n",
        "    StructField(\"category\", StringType(),True),\r\n",
        "    StructField(\"subcategory\", StringType(),True),\r\n",
        "    StructField(\"city\", StringType(),True),\r\n",
        "    StructField(\"state\", StringType(),True),\r\n",
        "    StructField(\"txntype\", StringType(),True),\r\n",
        "])"
      ],
      "outputs": [
        {
          "output_type": "display_data",
          "data": {
            "application/vnd.livy.statement-meta+json": {
              "spark_pool": "mysparkpool",
              "session_id": 4,
              "statement_id": 5,
              "state": "finished",
              "livy_statement_state": "available",
              "queued_time": "2022-05-05T15:17:26.4911112Z",
              "session_start_time": null,
              "execution_start_time": "2022-05-05T15:17:26.6569927Z",
              "execution_finish_time": "2022-05-05T15:17:26.819287Z"
            },
            "text/plain": "StatementMeta(mysparkpool, 4, 5, Finished, Available)"
          },
          "metadata": {}
        }
      ],
      "execution_count": 4,
      "metadata": {
        "jupyter": {
          "source_hidden": false,
          "outputs_hidden": false
        },
        "nteract": {
          "transient": {
            "deleting": false
          }
        }
      }
    },
    {
      "cell_type": "code",
      "source": [
        "# Assigning the Schema\r\n",
        "txnsDataDF = spark.read.schema(schemaFortxnsData).option(\"delimiter\",',').csv('abfss://txnsdataset@adlsdemo97.dfs.core.windows.net/txndata/txnsSmall')"
      ],
      "outputs": [
        {
          "output_type": "display_data",
          "data": {
            "application/vnd.livy.statement-meta+json": {
              "spark_pool": "mysparkpool",
              "session_id": 4,
              "statement_id": 6,
              "state": "finished",
              "livy_statement_state": "available",
              "queued_time": "2022-05-05T15:20:53.8066972Z",
              "session_start_time": null,
              "execution_start_time": "2022-05-05T15:20:53.9715256Z",
              "execution_finish_time": "2022-05-05T15:20:56.0713905Z"
            },
            "text/plain": "StatementMeta(mysparkpool, 4, 6, Finished, Available)"
          },
          "metadata": {}
        }
      ],
      "execution_count": 5,
      "metadata": {
        "jupyter": {
          "source_hidden": false,
          "outputs_hidden": false
        },
        "nteract": {
          "transient": {
            "deleting": false
          }
        }
      }
    },
    {
      "cell_type": "code",
      "source": [
        "txnsDataDF.show(5)"
      ],
      "outputs": [
        {
          "output_type": "display_data",
          "data": {
            "application/vnd.livy.statement-meta+json": {
              "spark_pool": "mysparkpool",
              "session_id": 4,
              "statement_id": 7,
              "state": "finished",
              "livy_statement_state": "available",
              "queued_time": "2022-05-05T15:21:15.0853052Z",
              "session_start_time": null,
              "execution_start_time": "2022-05-05T15:21:15.2086358Z",
              "execution_finish_time": "2022-05-05T15:21:22.1318324Z"
            },
            "text/plain": "StatementMeta(mysparkpool, 4, 7, Finished, Available)"
          },
          "metadata": {}
        },
        {
          "output_type": "stream",
          "name": "stdout",
          "text": [
            "+-----+----------+-------+------+------------------+--------------------+-----------+----------+-------+\n|txnid|   txndate| custid|amount|          category|         subcategory|       city|     state|txntype|\n+-----+----------+-------+------+------------------+--------------------+-----------+----------+-------+\n|    0|06-26-2011|4007024| 40.33|Exercise & Fitness|Cardio Machine Ac...|Clarksville| Tennessee| credit|\n|    1|05-26-2011|4006742|198.44|Exercise & Fitness|Weightlifting Gloves| Long Beach|California| credit|\n|    2|06-01-2011|4009775|  5.58|Exercise & Fitness|Weightlifting Mac...|    Anaheim|California| credit|\n|    3|06-05-2011|4002199|198.19|        Gymnastics|    Gymnastics Rings|  Milwaukee| Wisconsin| credit|\n|    4|12-17-2011|4002613| 98.81|       Team Sports|        Field Hockey|Nashville  | Tennessee| credit|\n+-----+----------+-------+------+------------------+--------------------+-----------+----------+-------+\nonly showing top 5 rows"
          ]
        }
      ],
      "execution_count": 6,
      "metadata": {
        "jupyter": {
          "source_hidden": false,
          "outputs_hidden": false
        },
        "nteract": {
          "transient": {
            "deleting": false
          }
        }
      }
    },
    {
      "cell_type": "code",
      "source": [
        "# Register this DataFrame as a Temporary Table in Apache Spark\r\n",
        "txnsDataDF.registerTempTable(\"txnsdata\")"
      ],
      "outputs": [
        {
          "output_type": "display_data",
          "data": {
            "application/vnd.livy.statement-meta+json": {
              "spark_pool": "mysparkpool",
              "session_id": 4,
              "statement_id": 8,
              "state": "finished",
              "livy_statement_state": "available",
              "queued_time": "2022-05-05T15:28:51.0073048Z",
              "session_start_time": null,
              "execution_start_time": "2022-05-05T15:28:51.151147Z",
              "execution_finish_time": "2022-05-05T15:28:51.6643853Z"
            },
            "text/plain": "StatementMeta(mysparkpool, 4, 8, Finished, Available)"
          },
          "metadata": {}
        }
      ],
      "execution_count": 7,
      "metadata": {
        "jupyter": {
          "source_hidden": false,
          "outputs_hidden": false
        },
        "nteract": {
          "transient": {
            "deleting": false
          }
        }
      }
    },
    {
      "cell_type": "code",
      "source": [
        "spark.sql(\"select category, SUM(amount) AS revenue FROM txnsdata GROUP BY category\").show()"
      ],
      "outputs": [
        {
          "output_type": "display_data",
          "data": {
            "application/vnd.livy.statement-meta+json": {
              "spark_pool": "mysparkpool",
              "session_id": 4,
              "statement_id": 10,
              "state": "finished",
              "livy_statement_state": "available",
              "queued_time": "2022-05-05T15:32:12.4208245Z",
              "session_start_time": null,
              "execution_start_time": "2022-05-05T15:32:12.5443806Z",
              "execution_finish_time": "2022-05-05T15:32:15.3867881Z"
            },
            "text/plain": "StatementMeta(mysparkpool, 4, 10, Finished, Available)"
          },
          "metadata": {}
        },
        {
          "output_type": "stream",
          "name": "stdout",
          "text": [
            "+--------------------+------------------+\n|            category|           revenue|\n+--------------------+------------------+\n|          Gymnastics|           3373.12|\n|       Winter Sports|1314.2499999999998|\n|             Jumping|           2078.58|\n|         Team Sports| 5178.709999999999|\n|          Air Sports|           1086.23|\n|        Indoor Games|2498.8900000000012|\n|               Games|           2899.91|\n|Outdoor Play Equi...|           2419.12|\n|        Water Sports|           4379.96|\n|             Puzzles| 508.8599999999999|\n|  Outdoor Recreation| 6190.070000000001|\n|      Racquet Sports|           1221.73|\n|       Combat Sports|           1655.38|\n|             Dancing|            704.66|\n|  Exercise & Fitness| 5016.370000000002|\n+--------------------+------------------+"
          ]
        }
      ],
      "execution_count": 9,
      "metadata": {
        "jupyter": {
          "source_hidden": false,
          "outputs_hidden": false
        },
        "nteract": {
          "transient": {
            "deleting": false
          }
        }
      }
    },
    {
      "cell_type": "code",
      "source": [
        "# SELECT COUNT(*) as numberofcardtxns FROM [txnstable] WHERE [txntype] = 'credit'\r\n",
        "spark.sql(\"select COUNT(*) as numberofcardtxns FROM txnsdata WHERE txntype = 'credit'\").show()"
      ],
      "outputs": [
        {
          "output_type": "display_data",
          "data": {
            "application/vnd.livy.statement-meta+json": {
              "spark_pool": "mysparkpool",
              "session_id": 4,
              "statement_id": 11,
              "state": "finished",
              "livy_statement_state": "available",
              "queued_time": "2022-05-05T15:36:01.2441598Z",
              "session_start_time": null,
              "execution_start_time": "2022-05-05T15:36:01.3843443Z",
              "execution_finish_time": "2022-05-05T15:36:02.4530576Z"
            },
            "text/plain": "StatementMeta(mysparkpool, 4, 11, Finished, Available)"
          },
          "metadata": {}
        },
        {
          "output_type": "stream",
          "name": "stdout",
          "text": [
            "+----------------+\n|numberofcardtxns|\n+----------------+\n|             336|\n+----------------+"
          ]
        }
      ],
      "execution_count": 10,
      "metadata": {
        "jupyter": {
          "source_hidden": false,
          "outputs_hidden": false
        },
        "nteract": {
          "transient": {
            "deleting": false
          }
        }
      }
    },
    {
      "cell_type": "code",
      "source": [
        "# c. Find the highest selling category\r\n",
        "spark.sql(\"select category, SUM(amount) AS revenue FROM txnsdata GROUP BY category ORDER BY revenue DESC LIMIT 1\").show()"
      ],
      "outputs": [
        {
          "output_type": "display_data",
          "data": {
            "application/vnd.livy.statement-meta+json": {
              "spark_pool": "mysparkpool",
              "session_id": 4,
              "statement_id": 12,
              "state": "finished",
              "livy_statement_state": "available",
              "queued_time": "2022-05-05T15:43:24.5244341Z",
              "session_start_time": null,
              "execution_start_time": "2022-05-05T15:43:24.6702136Z",
              "execution_finish_time": "2022-05-05T15:43:28.623417Z"
            },
            "text/plain": "StatementMeta(mysparkpool, 4, 12, Finished, Available)"
          },
          "metadata": {}
        },
        {
          "output_type": "stream",
          "name": "stdout",
          "text": [
            "+------------------+-----------------+\n|          category|          revenue|\n+------------------+-----------------+\n|Outdoor Recreation|6190.070000000001|\n+------------------+-----------------+"
          ]
        }
      ],
      "execution_count": 11,
      "metadata": {
        "jupyter": {
          "source_hidden": false,
          "outputs_hidden": false
        },
        "nteract": {
          "transient": {
            "deleting": false
          }
        }
      }
    },
    {
      "cell_type": "code",
      "source": [
        "# d. Find the lowest selling category\r\n",
        "spark.sql(\"select category, SUM(amount) AS revenue FROM txnsdata GROUP BY category ORDER BY revenue LIMIT 1\").show()"
      ],
      "outputs": [
        {
          "output_type": "display_data",
          "data": {
            "application/vnd.livy.statement-meta+json": {
              "spark_pool": "mysparkpool",
              "session_id": 4,
              "statement_id": 13,
              "state": "finished",
              "livy_statement_state": "available",
              "queued_time": "2022-05-05T15:46:20.8083578Z",
              "session_start_time": null,
              "execution_start_time": "2022-05-05T15:46:20.9715567Z",
              "execution_finish_time": "2022-05-05T15:46:22.7799779Z"
            },
            "text/plain": "StatementMeta(mysparkpool, 4, 13, Finished, Available)"
          },
          "metadata": {}
        },
        {
          "output_type": "stream",
          "name": "stdout",
          "text": [
            "+--------+-----------------+\n|category|          revenue|\n+--------+-----------------+\n| Puzzles|508.8599999999999|\n+--------+-----------------+"
          ]
        }
      ],
      "execution_count": 12,
      "metadata": {
        "jupyter": {
          "source_hidden": false,
          "outputs_hidden": false
        },
        "nteract": {
          "transient": {
            "deleting": false
          }
        }
      }
    },
    {
      "cell_type": "code",
      "source": [],
      "outputs": [],
      "execution_count": null,
      "metadata": {
        "jupyter": {
          "source_hidden": false,
          "outputs_hidden": false
        },
        "nteract": {
          "transient": {
            "deleting": false
          }
        }
      }
    }
  ],
  "metadata": {
    "language_info": {
      "name": "python"
    },
    "kernelspec": {
      "name": "synapse_pyspark",
      "language": "Python",
      "display_name": "Synapse PySpark"
    },
    "kernel_info": {
      "name": "synapse_pyspark"
    },
    "save_output": true,
    "synapse_widget": {
      "version": "0.1",
      "state": {}
    }
  },
  "nbformat": 4,
  "nbformat_minor": 2
}